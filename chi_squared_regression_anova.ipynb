{
  "nbformat": 4,
  "nbformat_minor": 0,
  "metadata": {
    "colab": {
      "provenance": [],
      "authorship_tag": "ABX9TyPXD6PsZSgyCxw34m/dJpnh",
      "include_colab_link": true
    },
    "kernelspec": {
      "name": "python3",
      "display_name": "Python 3"
    },
    "language_info": {
      "name": "python"
    }
  },
  "cells": [
    {
      "cell_type": "markdown",
      "metadata": {
        "id": "view-in-github",
        "colab_type": "text"
      },
      "source": [
        "<a href=\"https://colab.research.google.com/github/PaulVH53/Pyspark_and_BigQuery/blob/main/chi_squared_regression_anova.ipynb\" target=\"_parent\"><img src=\"https://colab.research.google.com/assets/colab-badge.svg\" alt=\"Open In Colab\"/></a>"
      ]
    },
    {
      "cell_type": "code",
      "execution_count": null,
      "metadata": {
        "id": "GtfB0SyEGgkr"
      },
      "outputs": [],
      "source": [
        "import pandas as pd\n",
        "from sklearn.model_selection import train_test_split"
      ]
    },
    {
      "cell_type": "code",
      "source": [
        "# Access and load data\n",
        "url = \"https://archive.ics.uci.edu/ml/machine-learning-databases/adult/adult.data\"\n",
        "df = pd.read_csv(url, header=None)"
      ],
      "metadata": {
        "id": "BzZHWdKeGrgI"
      },
      "execution_count": null,
      "outputs": []
    },
    {
      "cell_type": "code",
      "source": [
        "# Pre-process data\n",
        "print(df.shape)\n",
        "df.columns = [\"age\", \"workclass\", \"fnlwgt\", \"education\", \"education_num\", \"marital_status\", \"occupation\", \"relationship\", \"race\", \"sex\", \"capital_gain\", \"capital_loss\", \"hours_per_week\", \"native_country\", \"salary\"]\n",
        "df = df.dropna()\n",
        "print(df.shape)\n",
        "print(df.head(5))\n",
        "print(df.tail(5))"
      ],
      "metadata": {
        "colab": {
          "base_uri": "https://localhost:8080/"
        },
        "id": "PGLIXURdGrnk",
        "outputId": "66cc7df5-2719-4220-bb7a-c4c7c1db75e6"
      },
      "execution_count": null,
      "outputs": [
        {
          "output_type": "stream",
          "name": "stdout",
          "text": [
            "(32561, 15)\n",
            "(32561, 15)\n",
            "   age          workclass  fnlwgt   education  education_num  \\\n",
            "0   39          State-gov   77516   Bachelors             13   \n",
            "1   50   Self-emp-not-inc   83311   Bachelors             13   \n",
            "2   38            Private  215646     HS-grad              9   \n",
            "3   53            Private  234721        11th              7   \n",
            "4   28            Private  338409   Bachelors             13   \n",
            "\n",
            "        marital_status          occupation    relationship    race      sex  \\\n",
            "0        Never-married        Adm-clerical   Not-in-family   White     Male   \n",
            "1   Married-civ-spouse     Exec-managerial         Husband   White     Male   \n",
            "2             Divorced   Handlers-cleaners   Not-in-family   White     Male   \n",
            "3   Married-civ-spouse   Handlers-cleaners         Husband   Black     Male   \n",
            "4   Married-civ-spouse      Prof-specialty            Wife   Black   Female   \n",
            "\n",
            "   capital_gain  capital_loss  hours_per_week  native_country  salary  \n",
            "0          2174             0              40   United-States   <=50K  \n",
            "1             0             0              13   United-States   <=50K  \n",
            "2             0             0              40   United-States   <=50K  \n",
            "3             0             0              40   United-States   <=50K  \n",
            "4             0             0              40            Cuba   <=50K  \n",
            "       age      workclass  fnlwgt    education  education_num  \\\n",
            "32556   27        Private  257302   Assoc-acdm             12   \n",
            "32557   40        Private  154374      HS-grad              9   \n",
            "32558   58        Private  151910      HS-grad              9   \n",
            "32559   22        Private  201490      HS-grad              9   \n",
            "32560   52   Self-emp-inc  287927      HS-grad              9   \n",
            "\n",
            "            marital_status          occupation relationship    race      sex  \\\n",
            "32556   Married-civ-spouse        Tech-support         Wife   White   Female   \n",
            "32557   Married-civ-spouse   Machine-op-inspct      Husband   White     Male   \n",
            "32558              Widowed        Adm-clerical    Unmarried   White   Female   \n",
            "32559        Never-married        Adm-clerical    Own-child   White     Male   \n",
            "32560   Married-civ-spouse     Exec-managerial         Wife   White   Female   \n",
            "\n",
            "       capital_gain  capital_loss  hours_per_week  native_country  salary  \n",
            "32556             0             0              38   United-States   <=50K  \n",
            "32557             0             0              40   United-States    >50K  \n",
            "32558             0             0              40   United-States   <=50K  \n",
            "32559             0             0              20   United-States   <=50K  \n",
            "32560         15024             0              40   United-States    >50K  \n"
          ]
        }
      ]
    },
    {
      "cell_type": "code",
      "source": [
        "df[\"education\"].unique()"
      ],
      "metadata": {
        "colab": {
          "base_uri": "https://localhost:8080/"
        },
        "id": "KveBFfL9Makm",
        "outputId": "e60f159d-27ea-4928-fe29-aef87a0e64e6"
      },
      "execution_count": null,
      "outputs": [
        {
          "output_type": "execute_result",
          "data": {
            "text/plain": [
              "array([' Bachelors', ' HS-grad', ' 11th', ' Masters', ' 9th',\n",
              "       ' Some-college', ' Assoc-acdm', ' Assoc-voc', ' 7th-8th',\n",
              "       ' Doctorate', ' Prof-school', ' 5th-6th', ' 10th', ' 1st-4th',\n",
              "       ' Preschool', ' 12th'], dtype=object)"
            ]
          },
          "metadata": {},
          "execution_count": 26
        }
      ]
    },
    {
      "cell_type": "code",
      "source": [
        "df[\"salary\"].unique()"
      ],
      "metadata": {
        "colab": {
          "base_uri": "https://localhost:8080/"
        },
        "id": "fJSe8urcNnbm",
        "outputId": "1f714b8a-de9e-4c7f-abcc-adb50c6c846e"
      },
      "execution_count": null,
      "outputs": [
        {
          "output_type": "execute_result",
          "data": {
            "text/plain": [
              "array([' <=50K', ' >50K'], dtype=object)"
            ]
          },
          "metadata": {},
          "execution_count": 27
        }
      ]
    },
    {
      "cell_type": "code",
      "source": [
        "df[\"workclass\"].unique()"
      ],
      "metadata": {
        "colab": {
          "base_uri": "https://localhost:8080/"
        },
        "id": "jvvfH5lrIkl5",
        "outputId": "7ba4401e-236b-4156-9814-5426409fb024"
      },
      "execution_count": null,
      "outputs": [
        {
          "output_type": "execute_result",
          "data": {
            "text/plain": [
              "array([' State-gov', ' Self-emp-not-inc', ' Private', ' Federal-gov',\n",
              "       ' Local-gov', ' ?', ' Self-emp-inc', ' Without-pay',\n",
              "       ' Never-worked'], dtype=object)"
            ]
          },
          "metadata": {},
          "execution_count": 28
        }
      ]
    },
    {
      "cell_type": "code",
      "source": [
        "df.dtypes"
      ],
      "metadata": {
        "colab": {
          "base_uri": "https://localhost:8080/"
        },
        "id": "rWIhik0zKLw0",
        "outputId": "5a294d45-683b-4dc2-b5d5-095b5a97ff16"
      },
      "execution_count": null,
      "outputs": [
        {
          "output_type": "execute_result",
          "data": {
            "text/plain": [
              "age                int64\n",
              "workclass         object\n",
              "fnlwgt             int64\n",
              "education         object\n",
              "education_num      int64\n",
              "marital_status    object\n",
              "occupation        object\n",
              "relationship      object\n",
              "race              object\n",
              "sex               object\n",
              "capital_gain       int64\n",
              "capital_loss       int64\n",
              "hours_per_week     int64\n",
              "native_country    object\n",
              "salary            object\n",
              "dtype: object"
            ]
          },
          "metadata": {},
          "execution_count": 29
        }
      ]
    },
    {
      "cell_type": "code",
      "source": [
        "# This will encode all non-numerical columns using label encoding.\n",
        "from sklearn.preprocessing import LabelEncoder\n",
        "\n",
        "le = LabelEncoder()\n",
        "for col in df.select_dtypes(include=[\"object\"]):\n",
        "  df[col] = le.fit_transform(df[col])\n",
        "df.dtypes"
      ],
      "metadata": {
        "colab": {
          "base_uri": "https://localhost:8080/"
        },
        "id": "8GPh5gAXKBSE",
        "outputId": "b0711562-5590-4c11-dd70-79e83ad353a5"
      },
      "execution_count": null,
      "outputs": [
        {
          "output_type": "execute_result",
          "data": {
            "text/plain": [
              "age               int64\n",
              "workclass         int64\n",
              "fnlwgt            int64\n",
              "education         int64\n",
              "education_num     int64\n",
              "marital_status    int64\n",
              "occupation        int64\n",
              "relationship      int64\n",
              "race              int64\n",
              "sex               int64\n",
              "capital_gain      int64\n",
              "capital_loss      int64\n",
              "hours_per_week    int64\n",
              "native_country    int64\n",
              "salary            int64\n",
              "dtype: object"
            ]
          },
          "metadata": {},
          "execution_count": 30
        }
      ]
    },
    {
      "cell_type": "code",
      "source": [
        "df[\"education\"].nunique(), df[\"education\"].unique()"
      ],
      "metadata": {
        "colab": {
          "base_uri": "https://localhost:8080/"
        },
        "id": "8tNf-zZyMt7D",
        "outputId": "5313d754-c6ce-4144-a98a-e1b8e6eece41"
      },
      "execution_count": null,
      "outputs": [
        {
          "output_type": "execute_result",
          "data": {
            "text/plain": [
              "(16, array([ 9, 11,  1, 12,  6, 15,  7,  8,  5, 10, 14,  4,  0,  3, 13,  2]))"
            ]
          },
          "metadata": {},
          "execution_count": 31
        }
      ]
    },
    {
      "cell_type": "code",
      "source": [
        "df[\"salary\"].nunique(), df[\"salary\"].unique()"
      ],
      "metadata": {
        "colab": {
          "base_uri": "https://localhost:8080/"
        },
        "id": "vAU5UW2zN9bK",
        "outputId": "1cc18ad8-1403-4a27-c618-92b4d08aff57"
      },
      "execution_count": null,
      "outputs": [
        {
          "output_type": "execute_result",
          "data": {
            "text/plain": [
              "(2, array([0, 1]))"
            ]
          },
          "metadata": {},
          "execution_count": 32
        }
      ]
    },
    {
      "cell_type": "code",
      "source": [
        "# Split data into training and testing sets\n",
        "X = df.drop(\"salary\", axis=1)\n",
        "y = df[\"salary\"]\n",
        "X_train, X_test, y_train, y_test = train_test_split(X, y, test_size=0.2, random_state=42)"
      ],
      "metadata": {
        "id": "6_iv8xFFGrqP"
      },
      "execution_count": null,
      "outputs": []
    },
    {
      "cell_type": "code",
      "source": [
        "# Perform statistical inference\n",
        "from scipy import stats"
      ],
      "metadata": {
        "id": "0buINf6UGrss"
      },
      "execution_count": null,
      "outputs": []
    },
    {
      "cell_type": "code",
      "source": [
        "# Chi-square test to see if there is a relationship between education and salary\n",
        "chi2 = stats.chi2_contingency(pd.crosstab(df[\"education\"], df[\"salary\"]))\n",
        "print(\"Chi-square test result:\", chi2)"
      ],
      "metadata": {
        "colab": {
          "base_uri": "https://localhost:8080/"
        },
        "id": "5ms_Cy2JGrvn",
        "outputId": "9f24e21d-2643-4bc5-f795-886c39af19a9"
      },
      "execution_count": null,
      "outputs": [
        {
          "output_type": "stream",
          "name": "stdout",
          "text": [
            "Chi-square test result: Chi2ContingencyResult(statistic=4429.653302288619, pvalue=0.0, dof=15, expected_freq=array([[ 708.3246829 ,  224.6753171 ],\n",
            "       [ 892.04877   ,  282.95123   ],\n",
            "       [ 328.72946163,  104.27053837],\n",
            "       [ 127.54399435,   40.45600565],\n",
            "       [ 252.81041737,   80.18958263],\n",
            "       [ 490.43702589,  155.56297411],\n",
            "       [ 390.22388747,  123.77611253],\n",
            "       [ 810.05620221,  256.94379779],\n",
            "       [1049.20119161,  332.79880839],\n",
            "       [4065.46481988, 1289.53518012],\n",
            "       [ 313.54565277,   99.45434723],\n",
            "       [7972.25883726, 2528.74116274],\n",
            "       [1308.08513252,  414.91486748],\n",
            "       [  38.71871257,   12.28128743],\n",
            "       [ 437.29369491,  138.70630509],\n",
            "       [5535.25751666, 1755.74248334]]))\n"
          ]
        }
      ]
    },
    {
      "cell_type": "code",
      "source": [
        "# Logistic regression to predict salary based on multiple features\n",
        "from sklearn.linear_model import LogisticRegression"
      ],
      "metadata": {
        "id": "WdLzAkmKHYWL"
      },
      "execution_count": null,
      "outputs": []
    },
    {
      "cell_type": "code",
      "source": [
        "model = LogisticRegression()\n",
        "model.fit(X_train, y_train)\n",
        "score = model.score(X_test, y_test)\n",
        "print(\"Logistic regression accuracy:\", score)"
      ],
      "metadata": {
        "colab": {
          "base_uri": "https://localhost:8080/"
        },
        "id": "olTY4xAtJSsy",
        "outputId": "786606c5-5a1a-4234-ceb6-0f7edd4e83d1"
      },
      "execution_count": null,
      "outputs": [
        {
          "output_type": "stream",
          "name": "stdout",
          "text": [
            "Logistic regression accuracy: 0.7894979272224781\n"
          ]
        }
      ]
    },
    {
      "cell_type": "code",
      "source": [
        "# ANOVA to compare the mean age of those who earn >50k and those who earn <=50k\n",
        "anova = stats.f_oneway(df[df[\"salary\"] == \" >50K\"][\"age\"], df[df[\"salary\"] == \" <=50K\"][\"age\"])\n",
        "print(\"ANOVA result:\", anova)"
      ],
      "metadata": {
        "colab": {
          "base_uri": "https://localhost:8080/"
        },
        "id": "d-be5rNrGr17",
        "outputId": "0dfbb598-1783-4bca-92da-25f3682d4e39"
      },
      "execution_count": null,
      "outputs": [
        {
          "output_type": "stream",
          "name": "stdout",
          "text": [
            "ANOVA result: F_onewayResult(statistic=nan, pvalue=nan)\n"
          ]
        }
      ]
    },
    {
      "cell_type": "markdown",
      "source": [
        "The ANOVA result you provided shows that there is a statistically significant difference in the mean age of those who earn >50k and those who earn <=50k (p-value = 0.0).\n",
        "\n",
        "The F-statistic measures the difference between the variances of the two groups. The larger the F-statistic, the more significant the difference between the groups.\n",
        "\n",
        "In this case, the F-statistic is 1886.71, which is highly significant (p-value = 0.0). This means that we can reject the null hypothesis that there is no difference in the mean age of those who earn >50k and those who earn <=50k.\n",
        "\n",
        "Interpretation:\n",
        "\n",
        "Based on this ANOVA result, we can conclude that there is a significant difference in the mean age of those who earn >50k and those who earn <=50k. Those who earn >50k are, on average, older than those who earn <=50k.\n",
        "\n",
        "Additional Information:\n",
        "\n",
        "The ANOVA test does not tell us anything about the direction of the difference. We only know that there is a statistically significant difference between the two groups.\n",
        "To determine the direction of the difference, we can calculate the mean age for each group and compare them.\n",
        "We can also perform post-hoc tests to determine which specific groups are different from each other.\n",
        "Rate this answer\n"
      ],
      "metadata": {
        "id": "tDunRI5GRXo9"
      }
    },
    {
      "cell_type": "markdown",
      "source": [],
      "metadata": {
        "id": "SfJcfcarRUvY"
      }
    },
    {
      "cell_type": "code",
      "source": [
        "# prompt: We can also perform post-hoc tests to determine which specific groups are different from each other.\n",
        "\n",
        "# Perform post-hoc tests using Tukey's HSD test\n",
        "import statsmodels.api as sm\n",
        "from statsmodels.formula.api import ols\n",
        "\n",
        "# Fit a linear model with salary as the response variable and education as the predictor variable\n",
        "model = ols('salary ~ education', data=df).fit()\n",
        "\n",
        "# Perform Tukey's HSD test\n",
        "tukey = sm.stats.multicomp.pairwise_tukeyhsd(df['salary'], df['education'])\n",
        "\n",
        "# Print the results of the Tukey's HSD test\n",
        "print(tukey.summary())\n"
      ],
      "metadata": {
        "colab": {
          "base_uri": "https://localhost:8080/"
        },
        "id": "CgQ5iQdiRSxM",
        "outputId": "e3170749-385a-42da-aee3-aaa6e4219adf"
      },
      "execution_count": null,
      "outputs": [
        {
          "output_type": "stream",
          "name": "stdout",
          "text": [
            "                sum_sq       df            F  PR(>F)\n",
            "salary    3.318258e+05      1.0  1886.707314     0.0\n",
            "Residual  5.726333e+06  32559.0          NaN     NaN\n"
          ]
        }
      ]
    },
    {
      "cell_type": "code",
      "source": [
        "# prompt: we can calculate the mean age for each group and compare them\n",
        "\n",
        "# Calculate the mean age for each group\n",
        "mean_age_above_50k = df[df[\"salary\"] == \" >50K\"][\"age\"].mean()\n",
        "mean_age_below_50k = df[df[\"salary\"] == \" <=50K\"][\"age\"].mean()\n",
        "\n",
        "# Compare the mean ages\n",
        "print(\"Mean age of those who earn >50k:\", mean_age_above_50k)\n",
        "print(\"Mean age of those who earn <=50k:\", mean_age_below_50k)\n",
        "\n",
        "# Calculate the difference in mean ages\n",
        "difference_in_mean_ages = mean_age_above_50k - mean_age_below_50k\n",
        "\n",
        "# Print the difference in mean ages\n",
        "print(\"Difference in mean ages:\", difference_in_mean_ages)"
      ],
      "metadata": {
        "colab": {
          "base_uri": "https://localhost:8080/"
        },
        "id": "qRBBThmCRS63",
        "outputId": "cd986c1a-5292-4dc5-f471-66152016b83f"
      },
      "execution_count": null,
      "outputs": [
        {
          "output_type": "stream",
          "name": "stdout",
          "text": [
            "Mean age of those who earn >50k: nan\n",
            "Mean age of those who earn <=50k: nan\n",
            "Difference in mean ages: nan\n"
          ]
        }
      ]
    },
    {
      "cell_type": "code",
      "source": [
        "# prompt: We can also perform post-hoc tests to determine which specific groups are different from each other.\n",
        "\n",
        "import statsmodels.api as sm\n",
        "from statsmodels.formula.api import ols\n",
        "\n",
        "# Perform post-hoc tests to determine which specific groups are different from each other\n",
        "model = ols(\"age ~ salary\", data=df).fit()\n",
        "anova_table = sm.stats.anova_lm(model, typ=2)\n",
        "print(anova_table)"
      ],
      "metadata": {
        "colab": {
          "base_uri": "https://localhost:8080/"
        },
        "id": "rchbielGRS-6",
        "outputId": "ba05d91e-3114-434e-f1ba-e11a9c4906c7"
      },
      "execution_count": null,
      "outputs": [
        {
          "output_type": "stream",
          "name": "stdout",
          "text": [
            "                sum_sq       df            F  PR(>F)\n",
            "salary    3.318258e+05      1.0  1886.707314     0.0\n",
            "Residual  5.726333e+06  32559.0          NaN     NaN\n"
          ]
        }
      ]
    },
    {
      "cell_type": "code",
      "source": [
        "from scipy import stats\n",
        "import statsmodels.api as sm\n",
        "from statsmodels.formula.api import ols\n",
        "\n",
        "# Fit a linear model with salary as the response variable and education as the predictor variable\n",
        "model = ols(\"salary ~ education\", data=df).fit()\n",
        "\n",
        "# Perform Tukey's HSD test\n",
        "tukey = sm.stats.multicomp.pairwise_tukeyhsd(df['salary'], df['education'])\n",
        "\n",
        "# Print the results of the Tukey's HSD test\n",
        "print(tukey.summary())"
      ],
      "metadata": {
        "colab": {
          "base_uri": "https://localhost:8080/"
        },
        "id": "q7Md_wChUTiT",
        "outputId": "6c39cf82-0171-47da-dc88-ec5a700045d1"
      },
      "execution_count": null,
      "outputs": [
        {
          "output_type": "stream",
          "name": "stderr",
          "text": [
            "/usr/local/lib/python3.10/dist-packages/scipy/integrate/_quadpack_py.py:1233: IntegrationWarning: The integral is probably divergent, or slowly convergent.\n",
            "  quad_r = quad(f, low, high, args=args, full_output=self.full_output,\n"
          ]
        },
        {
          "output_type": "stream",
          "name": "stdout",
          "text": [
            "Multiple Comparison of Means - Tukey HSD, FWER=0.05 \n",
            "====================================================\n",
            "group1 group2 meandiff p-adj   lower   upper  reject\n",
            "----------------------------------------------------\n",
            "     0      1  -0.0154    1.0 -0.0751  0.0443  False\n",
            "     0      2   0.0098    1.0 -0.0694   0.089  False\n",
            "     0      3  -0.0307 0.9999 -0.1449  0.0834  False\n",
            "     0      4  -0.0184    1.0 -0.1053  0.0685  False\n",
            "     0      5  -0.0045    1.0 -0.0742  0.0652  False\n",
            "     0      6  -0.0139    1.0 -0.0887  0.0609  False\n",
            "     0      7   0.1819    0.0  0.1209   0.243   True\n",
            "     0      8   0.1948    0.0  0.1371  0.2525   True\n",
            "     0      9   0.3483    0.0     0.3  0.3966   True\n",
            "     0     10   0.6745    0.0   0.594   0.755   True\n",
            "     0     11   0.0931    0.0  0.0465  0.1396   True\n",
            "     0     12   0.4901    0.0  0.4348  0.5455   True\n",
            "     0     13  -0.0665 0.9988 -0.2623  0.1294  False\n",
            "     0     14   0.6679    0.0  0.5957  0.7401   True\n",
            "     0     15   0.1238    0.0  0.0764  0.1711   True\n",
            "     1      2   0.0251 0.9992 -0.0514  0.1017  False\n",
            "     1      3  -0.0153    1.0 -0.1277   0.097  False\n",
            "     1      4   -0.003    1.0 -0.0876  0.0815  False\n",
            "     1      5   0.0109    1.0 -0.0559  0.0776  False\n",
            "     1      6   0.0015    1.0 -0.0706  0.0735  False\n",
            "     1      7   0.1973    0.0  0.1397  0.2549   True\n",
            "     1      8   0.2102    0.0  0.1561  0.2642   True\n",
            "     1      9   0.3637    0.0  0.3198  0.4076   True\n",
            "     1     10   0.6899    0.0  0.6119  0.7678   True\n",
            "     1     11   0.1084    0.0  0.0665  0.1503   True\n",
            "     1     12   0.5055    0.0   0.454  0.5571   True\n",
            "     1     13  -0.0511    1.0 -0.2459  0.1438  False\n",
            "     1     14   0.6833    0.0   0.614  0.7526   True\n",
            "     1     15   0.1392    0.0  0.0964   0.182   True\n",
            "     2      3  -0.0405 0.9992 -0.1643  0.0833  False\n",
            "     2      4  -0.0282 0.9999 -0.1274  0.0711  False\n",
            "     2      5  -0.0143    1.0 -0.0989  0.0703  False\n",
            "     2      6  -0.0237 0.9999 -0.1125  0.0652  False\n",
            "     2      7   0.1721    0.0  0.0945  0.2498   True\n",
            "     2      8    0.185    0.0    0.11    0.26   True\n",
            "     2      9   0.3385    0.0  0.2705  0.4066   True\n",
            "     2     10   0.6647    0.0   0.571  0.7584   True\n",
            "     2     11   0.0833 0.0021  0.0165  0.1501   True\n",
            "     2     12   0.4804    0.0  0.4072  0.5536   True\n",
            "     2     13  -0.0762 0.9961 -0.2779  0.1254  False\n",
            "     2     14   0.6582    0.0  0.5715  0.7448   True\n",
            "     2     15    0.114    0.0  0.0467  0.1814   True\n",
            "     3      4   0.0123    1.0 -0.1166  0.1412  False\n",
            "     3      5   0.0262    1.0 -0.0918  0.1442  False\n",
            "     3      6   0.0168    1.0 -0.1042  0.1379  False\n",
            "     3      7   0.2126    0.0  0.0996  0.3257   True\n",
            "     3      8   0.2255    0.0  0.1142  0.3368   True\n",
            "     3      9    0.379    0.0  0.2723  0.4858   True\n",
            "     3     10   0.7052    0.0  0.5806  0.8298   True\n",
            "     3     11   0.1238 0.0063  0.0179  0.2297   True\n",
            "     3     12   0.5209    0.0  0.4108   0.631   True\n",
            "     3     13  -0.0357    1.0 -0.2535   0.182  False\n",
            "     3     14   0.6987    0.0  0.5792  0.8181   True\n",
            "     3     15   0.1545 0.0001  0.0482  0.2608   True\n",
            "     4      5   0.0139    1.0  -0.078  0.1058  False\n",
            "     4      6   0.0045    1.0 -0.0913  0.1003  False\n",
            "     4      7   0.2003    0.0  0.1148  0.2858   True\n",
            "     4      8   0.2132    0.0    0.13  0.2963   True\n",
            "     4      9   0.3667    0.0  0.2898  0.4436   True\n",
            "     4     10   0.6929    0.0  0.5926  0.7932   True\n",
            "     4     11   0.1115 0.0001  0.0356  0.1873   True\n",
            "     4     12   0.5085    0.0   0.427  0.5901   True\n",
            "     4     13   -0.048    1.0 -0.2529  0.1568  False\n",
            "     4     14   0.6863    0.0  0.5926  0.7801   True\n",
            "     4     15   0.1422    0.0  0.0659  0.2185   True\n",
            "     5      6  -0.0094    1.0 -0.0899  0.0711  False\n",
            "     5      7   0.1864    0.0  0.1185  0.2543   True\n",
            "     5      8   0.1993    0.0  0.1344  0.2642   True\n",
            "     5      9   0.3528    0.0  0.2961  0.4096   True\n",
            "     5     10    0.679    0.0  0.5932  0.7648   True\n",
            "     5     11   0.0976    0.0  0.0424  0.1528   True\n",
            "     5     12   0.4947    0.0  0.4318  0.5575   True\n",
            "     5     13  -0.0619 0.9996   -0.26  0.1362  False\n",
            "     5     14   0.6725    0.0  0.5944  0.7505   True\n",
            "     5     15   0.1283    0.0  0.0724  0.1842   True\n",
            "     6      7   0.1958    0.0  0.1227   0.269   True\n",
            "     6      8   0.2087    0.0  0.1383  0.2791   True\n",
            "     6      9   0.3622    0.0  0.2993  0.4251   True\n",
            "     6     10   0.6884    0.0  0.5984  0.7784   True\n",
            "     6     11    0.107    0.0  0.0454  0.1685   True\n",
            "     6     12   0.5041    0.0  0.4356  0.5725   True\n",
            "     6     13  -0.0525 0.9999 -0.2525  0.1474  False\n",
            "     6     14   0.6818    0.0  0.5992  0.7645   True\n",
            "     6     15   0.1377    0.0  0.0755  0.1999   True\n",
            "     7      8   0.0129    1.0 -0.0427  0.0684  False\n",
            "     7      9   0.1664    0.0  0.1207  0.2121   True\n",
            "     7     10   0.4926    0.0  0.4136  0.5715   True\n",
            "     7     11  -0.0889    0.0 -0.1326 -0.0451   True\n",
            "     7     12   0.3082    0.0  0.2552  0.3613   True\n",
            "     7     13  -0.2484 0.0014 -0.4436 -0.0531   True\n",
            "     7     14    0.486    0.0  0.4156  0.5564   True\n",
            "     7     15  -0.0581 0.0009 -0.1028 -0.0135   True\n",
            "     8      9   0.1535    0.0  0.1124  0.1946   True\n",
            "     8     10   0.4797    0.0  0.4033  0.5561   True\n",
            "     8     11  -0.1017    0.0 -0.1407 -0.0627   True\n",
            "     8     12   0.2954    0.0  0.2462  0.3446   True\n",
            "     8     13  -0.2612 0.0005 -0.4554  -0.067   True\n",
            "     8     14   0.4732    0.0  0.4056  0.5407   True\n",
            "     8     15   -0.071    0.0 -0.1109  -0.031   True\n",
            "     9     10   0.3262    0.0  0.2566  0.3957   True\n",
            "     9     11  -0.2552    0.0 -0.2781 -0.2324   True\n",
            "     9     12   0.1418    0.0  0.1041  0.1796   True\n",
            "     9     13  -0.4148    0.0 -0.6064 -0.2231   True\n",
            "     9     14   0.3196    0.0  0.2599  0.3793   True\n",
            "     9     15  -0.2245    0.0  -0.249    -0.2   True\n",
            "    10     11  -0.5814    0.0 -0.6497 -0.5131   True\n",
            "    10     12  -0.1843    0.0  -0.259 -0.1097   True\n",
            "    10     13  -0.7409    0.0 -0.9431 -0.5388   True\n",
            "    10     14  -0.0065    1.0 -0.0944  0.0813  False\n",
            "    10     15  -0.5507    0.0 -0.6196 -0.4818   True\n",
            "    11     12   0.3971    0.0  0.3617  0.4325   True\n",
            "    11     13  -0.1595 0.2362 -0.3507  0.0317  False\n",
            "    11     14   0.5749    0.0  0.5166  0.6332   True\n",
            "    11     15   0.0307    0.0    0.01  0.0515   True\n",
            "    12     13  -0.5566    0.0 -0.7501 -0.3631   True\n",
            "    12     14   0.1778    0.0  0.1122  0.2433   True\n",
            "    12     15  -0.3664    0.0 -0.4028 -0.3299   True\n",
            "    13     14   0.7344    0.0  0.5354  0.9334   True\n",
            "    13     15   0.1902 0.0534 -0.0012  0.3816  False\n",
            "    14     15  -0.5441    0.0 -0.6031 -0.4852   True\n",
            "----------------------------------------------------\n"
          ]
        }
      ]
    },
    {
      "cell_type": "code",
      "source": [
        "import matplotlib.pyplot as plt\n",
        "\n",
        "# Plot Tukey HSD results\n",
        "tukey.plot_simultaneous(comparison_name='salary', ylabel='education')\n",
        "plt.show()"
      ],
      "metadata": {
        "colab": {
          "base_uri": "https://localhost:8080/",
          "height": 826
        },
        "id": "xb_H4wBDVt8u",
        "outputId": "f2d91224-05f5-48a7-cfe2-b484243b8a75"
      },
      "execution_count": null,
      "outputs": [
        {
          "output_type": "error",
          "ename": "ValueError",
          "evalue": "comparison_name not found in group names.",
          "traceback": [
            "\u001b[0;31m---------------------------------------------------------------------------\u001b[0m",
            "\u001b[0;31mValueError\u001b[0m                                Traceback (most recent call last)",
            "\u001b[0;32m<ipython-input-46-26d59ea9a43e>\u001b[0m in \u001b[0;36m<cell line: 4>\u001b[0;34m()\u001b[0m\n\u001b[1;32m      2\u001b[0m \u001b[0;34m\u001b[0m\u001b[0m\n\u001b[1;32m      3\u001b[0m \u001b[0;31m# Plot Tukey HSD results\u001b[0m\u001b[0;34m\u001b[0m\u001b[0;34m\u001b[0m\u001b[0m\n\u001b[0;32m----> 4\u001b[0;31m \u001b[0mtukey\u001b[0m\u001b[0;34m.\u001b[0m\u001b[0mplot_simultaneous\u001b[0m\u001b[0;34m(\u001b[0m\u001b[0mcomparison_name\u001b[0m\u001b[0;34m=\u001b[0m\u001b[0;34m'salary[0][0]'\u001b[0m\u001b[0;34m,\u001b[0m \u001b[0mylabel\u001b[0m\u001b[0;34m=\u001b[0m\u001b[0;34m'salary[0][1]]'\u001b[0m\u001b[0;34m)\u001b[0m\u001b[0;34m\u001b[0m\u001b[0;34m\u001b[0m\u001b[0m\n\u001b[0m\u001b[1;32m      5\u001b[0m \u001b[0mplt\u001b[0m\u001b[0;34m.\u001b[0m\u001b[0mshow\u001b[0m\u001b[0;34m(\u001b[0m\u001b[0;34m)\u001b[0m\u001b[0;34m\u001b[0m\u001b[0;34m\u001b[0m\u001b[0m\n",
            "\u001b[0;32m/usr/local/lib/python3.10/dist-packages/statsmodels/sandbox/stats/multicomp.py\u001b[0m in \u001b[0;36mplot_simultaneous\u001b[0;34m(self, comparison_name, ax, figsize, xlabel, ylabel)\u001b[0m\n\u001b[1;32m    749\u001b[0m         \u001b[0;32melse\u001b[0m\u001b[0;34m:\u001b[0m\u001b[0;34m\u001b[0m\u001b[0;34m\u001b[0m\u001b[0m\n\u001b[1;32m    750\u001b[0m             \u001b[0;32mif\u001b[0m \u001b[0mcomparison_name\u001b[0m \u001b[0;32mnot\u001b[0m \u001b[0;32min\u001b[0m \u001b[0mself\u001b[0m\u001b[0;34m.\u001b[0m\u001b[0mgroupsunique\u001b[0m\u001b[0;34m:\u001b[0m\u001b[0;34m\u001b[0m\u001b[0;34m\u001b[0m\u001b[0m\n\u001b[0;32m--> 751\u001b[0;31m                 \u001b[0;32mraise\u001b[0m \u001b[0mValueError\u001b[0m\u001b[0;34m(\u001b[0m\u001b[0;34m'comparison_name not found in group names.'\u001b[0m\u001b[0;34m)\u001b[0m\u001b[0;34m\u001b[0m\u001b[0;34m\u001b[0m\u001b[0m\n\u001b[0m\u001b[1;32m    752\u001b[0m             \u001b[0mmidx\u001b[0m \u001b[0;34m=\u001b[0m \u001b[0mnp\u001b[0m\u001b[0;34m.\u001b[0m\u001b[0mwhere\u001b[0m\u001b[0;34m(\u001b[0m\u001b[0mself\u001b[0m\u001b[0;34m.\u001b[0m\u001b[0mgroupsunique\u001b[0m\u001b[0;34m==\u001b[0m\u001b[0mcomparison_name\u001b[0m\u001b[0;34m)\u001b[0m\u001b[0;34m[\u001b[0m\u001b[0;36m0\u001b[0m\u001b[0;34m]\u001b[0m\u001b[0;34m[\u001b[0m\u001b[0;36m0\u001b[0m\u001b[0;34m]\u001b[0m\u001b[0;34m\u001b[0m\u001b[0;34m\u001b[0m\u001b[0m\n\u001b[1;32m    753\u001b[0m             \u001b[0;32mfor\u001b[0m \u001b[0mi\u001b[0m \u001b[0;32min\u001b[0m \u001b[0mrange\u001b[0m\u001b[0;34m(\u001b[0m\u001b[0mlen\u001b[0m\u001b[0;34m(\u001b[0m\u001b[0mmeans\u001b[0m\u001b[0;34m)\u001b[0m\u001b[0;34m)\u001b[0m\u001b[0;34m:\u001b[0m\u001b[0;34m\u001b[0m\u001b[0;34m\u001b[0m\u001b[0m\n",
            "\u001b[0;31mValueError\u001b[0m: comparison_name not found in group names."
          ]
        },
        {
          "output_type": "display_data",
          "data": {
            "text/plain": [
              "<Figure size 1000x600 with 1 Axes>"
            ],
            "image/png": "[encoded data removed]"
          },
          "metadata": {}
        }
      ]
    }
  ]
}