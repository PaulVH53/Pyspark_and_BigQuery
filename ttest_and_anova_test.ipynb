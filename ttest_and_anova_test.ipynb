{
  "nbformat": 4,
  "nbformat_minor": 0,
  "metadata": {
    "colab": {
      "provenance": [],
      "authorship_tag": "ABX9TyPf3xeQkeJOyXCZczz3PTl5",
      "include_colab_link": true
    },
    "kernelspec": {
      "name": "python3",
      "display_name": "Python 3"
    },
    "language_info": {
      "name": "python"
    }
  },
  "cells": [
    {
      "cell_type": "markdown",
      "metadata": {
        "id": "view-in-github",
        "colab_type": "text"
      },
      "source": [
        "<a href=\"https://colab.research.google.com/github/PaulVH53/Pyspark_and_BigQuery/blob/main/ttest_and_anova_test.ipynb\" target=\"_parent\"><img src=\"https://colab.research.google.com/assets/colab-badge.svg\" alt=\"Open In Colab\"/></a>"
      ]
    },
    {
      "cell_type": "code",
      "execution_count": null,
      "metadata": {
        "id": "6Ude35inC21A"
      },
      "outputs": [],
      "source": [
        "import pandas as pd\n",
        "from sklearn.model_selection import train_test_split"
      ]
    },
    {
      "cell_type": "code",
      "source": [
        "# Access and load data\n",
        "url = \"https://archive.ics.uci.edu/ml/machine-learning-databases/iris/iris.data\"\n",
        "df = pd.read_csv(url, header=None)\n",
        "print(df.head(5))\n",
        "print(df.tail(5))"
      ],
      "metadata": {
        "colab": {
          "base_uri": "https://localhost:8080/"
        },
        "id": "D5WRR3LSC7mf",
        "outputId": "f3db5f5a-49e7-4817-aa89-baf054cebd48"
      },
      "execution_count": null,
      "outputs": [
        {
          "output_type": "stream",
          "name": "stdout",
          "text": [
            "     0    1    2    3            4\n",
            "0  5.1  3.5  1.4  0.2  Iris-setosa\n",
            "1  4.9  3.0  1.4  0.2  Iris-setosa\n",
            "2  4.7  3.2  1.3  0.2  Iris-setosa\n",
            "3  4.6  3.1  1.5  0.2  Iris-setosa\n",
            "4  5.0  3.6  1.4  0.2  Iris-setosa\n",
            "       0    1    2    3               4\n",
            "145  6.7  3.0  5.2  2.3  Iris-virginica\n",
            "146  6.3  2.5  5.0  1.9  Iris-virginica\n",
            "147  6.5  3.0  5.2  2.0  Iris-virginica\n",
            "148  6.2  3.4  5.4  2.3  Iris-virginica\n",
            "149  5.9  3.0  5.1  1.8  Iris-virginica\n"
          ]
        }
      ]
    },
    {
      "cell_type": "code",
      "source": [
        "df.shape, df.columns, df[4].nunique(), df[4].unique()"
      ],
      "metadata": {
        "colab": {
          "base_uri": "https://localhost:8080/"
        },
        "id": "XdBpEIsMDnCP",
        "outputId": "926ccedd-01f8-4bbb-f8e7-4a6e1b3ec76e"
      },
      "execution_count": null,
      "outputs": [
        {
          "output_type": "execute_result",
          "data": {
            "text/plain": [
              "((150, 5),\n",
              " Int64Index([0, 1, 2, 3, 4], dtype='int64'),\n",
              " 3,\n",
              " array(['Iris-setosa', 'Iris-versicolor', 'Iris-virginica'], dtype=object))"
            ]
          },
          "metadata": {},
          "execution_count": 9
        }
      ]
    },
    {
      "cell_type": "code",
      "source": [
        "# Pre-process data\n",
        "df.columns = [\"sepal_length\", \"sepal_width\", \"petal_length\", \"petal_width\", \"class\"]\n",
        "df = df.dropna()\n",
        "df.shape, df.columns, df[\"class\"].nunique(), df[\"class\"].unique()"
      ],
      "metadata": {
        "colab": {
          "base_uri": "https://localhost:8080/"
        },
        "id": "4fXayhOBC7xb",
        "outputId": "a28d8776-3da0-40e1-f7c1-16ed2cd0c9ce"
      },
      "execution_count": null,
      "outputs": [
        {
          "output_type": "execute_result",
          "data": {
            "text/plain": [
              "((150, 5),\n",
              " Index(['sepal_length', 'sepal_width', 'petal_length', 'petal_width', 'class'], dtype='object'),\n",
              " 3,\n",
              " array(['Iris-setosa', 'Iris-versicolor', 'Iris-virginica'], dtype=object))"
            ]
          },
          "metadata": {},
          "execution_count": 12
        }
      ]
    },
    {
      "cell_type": "code",
      "source": [
        "# Split data into training and testing sets\n",
        "X = df.drop(\"class\", axis=1)\n",
        "y = df[\"class\"]\n",
        "X_train, X_test, y_train, y_test = train_test_split(X, y, test_size=0.2, random_state=42)\n",
        "X_train.shape, X_test.shape, y_train.shape, y_test.shape"
      ],
      "metadata": {
        "colab": {
          "base_uri": "https://localhost:8080/"
        },
        "id": "m9Ou0109C76w",
        "outputId": "ea73b64b-129d-4988-eb64-81699684bfef"
      },
      "execution_count": null,
      "outputs": [
        {
          "output_type": "execute_result",
          "data": {
            "text/plain": [
              "((120, 4), (30, 4), (120,), (30,))"
            ]
          },
          "metadata": {},
          "execution_count": 13
        }
      ]
    },
    {
      "cell_type": "code",
      "source": [
        "# Perform statistical inference\n",
        "from scipy import stats"
      ],
      "metadata": {
        "id": "cnSDeInpDU4N"
      },
      "execution_count": null,
      "outputs": []
    },
    {
      "cell_type": "code",
      "source": [
        "# T-test to compare sepal lengths between two classes\n",
        "ttest = stats.ttest_ind(df[df[\"class\"] == \"Iris-setosa\"][\"sepal_length\"], df[df[\"class\"] == \"Iris-versicolor\"][\"sepal_length\"])\n",
        "print(\"T-test result:\", ttest)"
      ],
      "metadata": {
        "colab": {
          "base_uri": "https://localhost:8080/"
        },
        "id": "xSRquhrbDVBv",
        "outputId": "a5b65abb-82fe-4e08-edbf-5bd97f2e0eed"
      },
      "execution_count": null,
      "outputs": [
        {
          "output_type": "stream",
          "name": "stdout",
          "text": [
            "T-test result: TtestResult(statistic=-10.52098626754911, pvalue=8.985235037487079e-18, df=98.0)\n"
          ]
        }
      ]
    },
    {
      "cell_type": "code",
      "source": [
        "# ANOVA to compare sepal lengths among all three classes\n",
        "anova = stats.f_oneway(df[df[\"class\"] == \"Iris-setosa\"][\"sepal_length\"], df[df[\"class\"] == \"Iris-versicolor\"][\"sepal_length\"], df[df[\"class\"] == \"Iris-virginica\"][\"sepal_length\"])\n",
        "print(\"ANOVA result:\", anova)"
      ],
      "metadata": {
        "colab": {
          "base_uri": "https://localhost:8080/"
        },
        "id": "1l8tHQ07DVKb",
        "outputId": "d38d001a-fd12-4718-bd00-4f98da22fdaf"
      },
      "execution_count": null,
      "outputs": [
        {
          "output_type": "stream",
          "name": "stdout",
          "text": [
            "ANOVA result: F_onewayResult(statistic=119.26450218450468, pvalue=1.6696691907693826e-31)\n"
          ]
        }
      ]
    }
  ]
}